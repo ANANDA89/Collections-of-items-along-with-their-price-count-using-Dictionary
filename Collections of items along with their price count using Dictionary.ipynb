{
 "cells": [
  {
   "cell_type": "code",
   "execution_count": null,
   "metadata": {},
   "outputs": [],
   "source": [
    "from collections import OrderedDict\n",
    "od = OrderedDict()\n",
    "for _ in range(int(input())):\n",
    "    q=input().split(' ') \n",
    "    l=len(q)\n",
    "    price=q[l-1]\n",
    "    x=''\n",
    "    for i in range((l-1)):\n",
    "       x=x+q[i] \n",
    "       if l>2:\n",
    "        x=x+' '\n",
    "    x=x.strip() \n",
    "    ce=od.get(x)\n",
    "    if ce==None:\n",
    "        \n",
    "        od[x]=int(price)\n",
    "    else:\n",
    "        tp = ce + int(price)\n",
    "        od[x] = tp\n",
    "# for i,j in od.items():\n",
    "#     print(i,j)      \n",
    "for i in od:\n",
    "    print(i,od[i])\n"
   ]
  }
 ],
 "metadata": {
  "kernelspec": {
   "display_name": "Python 3",
   "language": "python",
   "name": "python3"
  },
  "language_info": {
   "codemirror_mode": {
    "name": "ipython",
    "version": 3
   },
   "file_extension": ".py",
   "mimetype": "text/x-python",
   "name": "python",
   "nbconvert_exporter": "python",
   "pygments_lexer": "ipython3",
   "version": "3.7.6"
  }
 },
 "nbformat": 4,
 "nbformat_minor": 4
}
